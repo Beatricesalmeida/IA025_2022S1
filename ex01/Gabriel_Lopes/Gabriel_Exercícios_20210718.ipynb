{
  "nbformat": 4,
  "nbformat_minor": 0,
  "metadata": {
    "colab": {
      "name": "Gabriel - Exercícios - 20210718",
      "provenance": [],
      "collapsed_sections": []
    },
    "kernelspec": {
      "display_name": "Python 3",
      "language": "python",
      "name": "python3"
    },
    "language_info": {
      "codemirror_mode": {
        "name": "ipython",
        "version": 3
      },
      "file_extension": ".py",
      "mimetype": "text/x-python",
      "name": "python",
      "nbconvert_exporter": "python",
      "pygments_lexer": "ipython3",
      "version": "3.6.5"
    },
    "toc": {
      "base_numbering": 1,
      "nav_menu": {
        "height": "117px",
        "width": "252px"
      },
      "number_sections": true,
      "sideBar": true,
      "skip_h1_title": false,
      "title_cell": "Table of Contents",
      "title_sidebar": "Contents",
      "toc_cell": false,
      "toc_position": {},
      "toc_section_display": "block",
      "toc_window_display": false
    },
    "varInspector": {
      "cols": {
        "lenName": 16,
        "lenType": 16,
        "lenVar": 40
      },
      "kernels_config": {
        "python": {
          "delete_cmd_postfix": "",
          "delete_cmd_prefix": "del ",
          "library": "var_list.py",
          "varRefreshCmd": "print(var_dic_list())"
        },
        "r": {
          "delete_cmd_postfix": ") ",
          "delete_cmd_prefix": "rm(",
          "library": "var_list.r",
          "varRefreshCmd": "cat(var_dic_list()) "
        }
      },
      "types_to_exclude": [
        "module",
        "function",
        "builtin_function_or_method",
        "instance",
        "_Feature"
      ],
      "window_display": false
    }
  },
  "cells": [
    {
      "cell_type": "markdown",
      "metadata": {
        "id": "mTVOQpMfhgLM"
      },
      "source": [
        "Esté um notebook Colab contendo exercícios de programação em python, numpy e pytorch."
      ]
    },
    {
      "cell_type": "markdown",
      "metadata": {
        "id": "KMoyGt5gXMgK"
      },
      "source": [
        "## Coloque seu nome"
      ]
    },
    {
      "cell_type": "code",
      "metadata": {
        "id": "iBHbXcibXPRe",
        "colab": {
          "base_uri": "https://localhost:8080/"
        },
        "outputId": "26976036-fdb6-40b6-da58-97193446c712"
      },
      "source": [
        "print('Meu nome é: Gabriel Victor de Sousa Lopes')"
      ],
      "execution_count": null,
      "outputs": [
        {
          "output_type": "stream",
          "name": "stdout",
          "text": [
            "Meu nome é: Gabriel Victor de Sousa Lopes\n"
          ]
        }
      ]
    },
    {
      "cell_type": "markdown",
      "metadata": {
        "id": "e9S5acRbm1Zr"
      },
      "source": [
        "# Parte 1:\n",
        "\n",
        "##Exercícios de Processamento de Dados\n",
        "\n",
        "Nesta parte pode-se usar as bibliotecas nativas do python como a `collections`, `re` e `random`. Também pode-se usar o NumPy."
      ]
    },
    {
      "cell_type": "markdown",
      "metadata": {
        "id": "kxS5h1V8nDn6"
      },
      "source": [
        "##Exercício 1.1\n",
        "Crie um dicionário com os `k` itens mais frequentes de uma lista.\n",
        "\n",
        "Por exemplo, dada a lista de itens `L=['a', 'a', 'd', 'b', 'd', 'c', 'e', 'a', 'b', 'e', 'e', 'a']` e `k=2`, o resultado deve ser um dicionário cuja chave é o item e o valor é a sua frequência: {'a': 4, 'e': 3}"
      ]
    },
    {
      "cell_type": "code",
      "metadata": {
        "id": "gT08b5Z_nC-j"
      },
      "source": [
        "def top_k(L, k):\n",
        "  # Escreva aqui o código\n",
        "    dicionario = dict([(x,L.count(x)) for x in set(L)]) \n",
        "    order_dict = sorted(dicionario.items(), key=lambda x: x[1], reverse=True)\n",
        "    return  order_dict[:k]"
      ],
      "execution_count": null,
      "outputs": []
    },
    {
      "cell_type": "markdown",
      "metadata": {
        "id": "KLD_e3C9p4xO"
      },
      "source": [
        "Mostre que sua implementação está correta usando uma entrada com poucos itens:"
      ]
    },
    {
      "cell_type": "code",
      "metadata": {
        "id": "iMW9NiBgnkvA",
        "colab": {
          "base_uri": "https://localhost:8080/"
        },
        "outputId": "1de376b0-7bdd-4c71-f41e-fa3efc0786a9"
      },
      "source": [
        "L = ['f', 'a', 'a', 'd', 'b', 'd', 'c', 'e', 'a', 'b', 'e', 'e', 'a', 'd']\n",
        "k = 3\n",
        "resultado = top_k(L=L, k=k)\n",
        "print(f'resultado: {resultado}')"
      ],
      "execution_count": null,
      "outputs": [
        {
          "output_type": "stream",
          "name": "stdout",
          "text": [
            "resultado: [('a', 4), ('d', 3), ('e', 3)]\n"
          ]
        }
      ]
    },
    {
      "cell_type": "markdown",
      "metadata": {
        "id": "wBeqZScQqJ0a"
      },
      "source": [
        "Mostre que sua implementação é eficiente usando uma entrada com 10M de itens:"
      ]
    },
    {
      "cell_type": "code",
      "metadata": {
        "id": "O_lhcm4ko8bY"
      },
      "source": [
        "import random\n",
        "L = random.choices('abcdefghijklmnopqrstuvwxyz', k=10_000_000)\n",
        "k = 10000"
      ],
      "execution_count": null,
      "outputs": []
    },
    {
      "cell_type": "code",
      "metadata": {
        "id": "L9U-Bgs2o-f_",
        "colab": {
          "base_uri": "https://localhost:8080/"
        },
        "outputId": "e5894de8-4dda-4dd0-ab66-de31f96bf395"
      },
      "source": [
        "%%timeit\n",
        "resultado = top_k(L=L, k=k)"
      ],
      "execution_count": null,
      "outputs": [
        {
          "output_type": "stream",
          "name": "stdout",
          "text": [
            "1 loop, best of 5: 3.45 s per loop\n"
          ]
        }
      ]
    },
    {
      "cell_type": "markdown",
      "metadata": {
        "id": "oJHDaOz_tK38"
      },
      "source": [
        "## Exercício 1.2\n",
        "\n",
        "Em processamento de linguagem natural, é comum convertemos as palavras de um texto para uma lista de identificadores dessas palavras. Dado o dicionário `V` abaixo onde as chaves são palavras e os valores são seus respectivos identificadores, converta o texto `D` para uma lista de identificadores.\n",
        "\n",
        "Palavras que não existem no dicionário deverão ser convertidas para o identificador do token `unknown`.\n",
        "\n",
        "O código deve ser insensível a maiúsculas (case-insensitive).\n",
        "\n",
        "Se atente que pontuações (vírgulas, ponto final, etc) também são consideradas palavras."
      ]
    },
    {
      "cell_type": "code",
      "metadata": {
        "id": "rVzv89trtTPc"
      },
      "source": [
        "#Função para separar os caracteres especiais na String\n",
        "def chr_replace(old, to_replace):\n",
        "    new_string = old\n",
        "    for x in to_replace:\n",
        "        new_string = new_string.replace(x, ' '+x+' ')\n",
        "    return new_string\n",
        "\n",
        "\n",
        "def tokens_to_ids(text, vocabulary):\n",
        "    \n",
        "    words =  chr_replace(text, \".,;:!?%&*$()/#\").split() #Lista de caracteres presentes na string\n",
        "\n",
        "    ident = list()\n",
        "\n",
        "    for k in words:\n",
        "      if (k.lower() in vocabulary):\n",
        "          ident.append(vocabulary[k.lower()])\n",
        "      else:\n",
        "        ident.append(vocabulary['unknown'])\n",
        "\n",
        "    return ident"
      ],
      "execution_count": null,
      "outputs": []
    },
    {
      "cell_type": "markdown",
      "metadata": {
        "id": "aCGZeiqkY-sm"
      },
      "source": [
        "Mostre que sua implementação esta correta com um exemplo pequeno:\n",
        "\n",
        "---\n",
        "\n"
      ]
    },
    {
      "cell_type": "code",
      "metadata": {
        "id": "iApR1h7gY98E",
        "colab": {
          "base_uri": "https://localhost:8080/"
        },
        "outputId": "23ef863d-c239-4b08-a498-72b8b1ca3aaf"
      },
      "source": [
        "V = {'eu': 1, 'de': 2, 'gosto': 3, 'comer': 4, '.': 5, 'unknown': -1}\n",
        "D = 'Eu gosto de comer pizza.'\n",
        "\n",
        "print(tokens_to_ids(D, V))"
      ],
      "execution_count": null,
      "outputs": [
        {
          "output_type": "stream",
          "name": "stdout",
          "text": [
            "[1, 3, 2, 4, -1, 5]\n"
          ]
        }
      ]
    },
    {
      "cell_type": "markdown",
      "metadata": {
        "id": "dWtTMxlXZN25"
      },
      "source": [
        "Mostre que sua implementação é eficiente com um exemplo grande:"
      ]
    },
    {
      "cell_type": "code",
      "metadata": {
        "id": "pxT_g-ZxZUsX"
      },
      "source": [
        "V = {'eu': 1, 'de': 2, 'gosto': 3, 'comer': 4, '.': 5, 'unknown': -1}\n",
        "D = ' '.join(1_000_000 * ['Eu gosto de comer pizza.'])"
      ],
      "execution_count": null,
      "outputs": []
    },
    {
      "cell_type": "code",
      "metadata": {
        "id": "kp1nataGZU-V",
        "colab": {
          "base_uri": "https://localhost:8080/"
        },
        "outputId": "89c515ac-e93f-43f7-d6ea-95192de470af"
      },
      "source": [
        "%%timeit\n",
        "resultado = tokens_to_ids(D, V)"
      ],
      "execution_count": null,
      "outputs": [
        {
          "output_type": "stream",
          "name": "stdout",
          "text": [
            "1 loop, best of 5: 2.27 s per loop\n"
          ]
        }
      ]
    },
    {
      "cell_type": "markdown",
      "metadata": {
        "id": "XRfaKfXwRXn_"
      },
      "source": [
        "## Exercício 1.3\n",
        "\n",
        "Em aprendizado profundo é comum termos que lidar com arquivos muito grandes.\n",
        "\n",
        "Dado um arquivo de texto onde cada item é separado por `\\n`, escreva um programa que amostre `k` itens desse arquivo aleatoriamente.\n",
        "\n",
        "Nota 1: Assuma amostragem de uma distribuição uniforme, ou seja, todos os itens tem a mesma probablidade de amostragem.\n",
        "\n",
        "Nota 2: Assuma que o arquivo não cabe em memória.\n",
        "\n",
        "Nota 3: Utilize apenas bibliotecas nativas do python."
      ]
    },
    {
      "cell_type": "code",
      "metadata": {
        "id": "2PsadE9SRG_9"
      },
      "source": [
        "import random\n",
        "import linecache \n",
        "\n",
        "def sample(path: str, k: int):\n",
        "\n",
        "  a_file = open(filename,\"r\")\n",
        "  n = 0\n",
        "  for line in a_file:\n",
        "      n += 1;\n",
        "\n",
        "  randomList = []\n",
        "\n",
        "  for i in range(0, k): \n",
        "      num = random.randint(0,n)\n",
        "      while num in randomList:\n",
        "        num = random.randint(0,n)\n",
        "        \n",
        "      randomList.append(num)\n",
        "  \n",
        "  item = []\n",
        "\n",
        "  for i in randomList:\n",
        "    line = linecache.getline(filename, i)\n",
        "    item.append(line.split(\"\\n\")[0])\n",
        "\n",
        "  return item"
      ],
      "execution_count": null,
      "outputs": []
    },
    {
      "cell_type": "markdown",
      "metadata": {
        "id": "ycEnlFWxSt0i"
      },
      "source": [
        "Mostre que sua implementação está correta com um exemplo pequeno:"
      ]
    },
    {
      "cell_type": "code",
      "metadata": {
        "id": "vyLJ1e2ZSzC9",
        "colab": {
          "base_uri": "https://localhost:8080/"
        },
        "outputId": "b018f6b7-e158-458d-e969-29793f70d1a0"
      },
      "source": [
        "filename = 'small.txt'\n",
        "total_size = 100\n",
        "n_samples = 10\n",
        "\n",
        "with open(filename, 'w') as fout:\n",
        "    fout.write('\\n'.join(f'line {i}' for i in range(total_size)))\n",
        "\n",
        "\n",
        "samples = sample(path=filename, k=n_samples)\n",
        "print(samples)\n",
        "print(len(samples) == n_samples)"
      ],
      "execution_count": null,
      "outputs": [
        {
          "output_type": "stream",
          "name": "stdout",
          "text": [
            "['line 19', 'line 33', 'line 53', 'line 22', 'line 84', 'line 99', 'line 32', 'line 68', 'line 75', 'line 45']\n",
            "True\n"
          ]
        }
      ]
    },
    {
      "cell_type": "markdown",
      "metadata": {
        "id": "2r4FMiMj12Xg"
      },
      "source": [
        "Mostre que sua implementação é eficiente com um exemplo grande:"
      ]
    },
    {
      "cell_type": "code",
      "metadata": {
        "id": "PUwnNMGg18Ty"
      },
      "source": [
        "filename = 'large.txt'\n",
        "total_size = 1_000_000\n",
        "n_samples = 10000\n",
        "\n",
        "with open(filename, 'w') as fout:\n",
        "    fout.write('\\n'.join(f'line {i}' for i in range(total_size)))"
      ],
      "execution_count": null,
      "outputs": []
    },
    {
      "cell_type": "code",
      "metadata": {
        "id": "iA9sAZmo0UDN",
        "colab": {
          "base_uri": "https://localhost:8080/"
        },
        "outputId": "47dca8ff-1589-4fa3-e2c9-977cacf0ef3b"
      },
      "source": [
        "%%timeit\n",
        "samples = sample(path=filename, k=n_samples)\n",
        "assert len(samples) == n_samples"
      ],
      "execution_count": null,
      "outputs": [
        {
          "output_type": "stream",
          "name": "stdout",
          "text": [
            "1 loop, best of 5: 798 ms per loop\n"
          ]
        }
      ]
    },
    {
      "cell_type": "markdown",
      "metadata": {
        "id": "udS0Ns4etoJs"
      },
      "source": [
        "# Parte 2:\n",
        "\n",
        "##Exercícios de Numpy\n",
        "\n",
        "Nesta parte deve-se usar apenas a biblioteca NumPy. Aqui não se pode usar o PyTorch."
      ]
    },
    {
      "cell_type": "markdown",
      "metadata": {
        "id": "RcMz3Vzjt144"
      },
      "source": [
        "##Exercício 2.1\n",
        "\n",
        "Quantos operações de ponto flutuante (flops) de soma e de multiplicação tem a multiplicação matricial $AB$, sendo que a matriz $A$ tem tamanho $m \\times n$ e a matriz $B$ tem tamanho $n \\times p$?"
      ]
    },
    {
      "cell_type": "markdown",
      "metadata": {
        "id": "4gNXj45RJqUm"
      },
      "source": [
        "Resposta:\n",
        "- número de somas: \n",
        "- número de multiplicações: "
      ]
    },
    {
      "cell_type": "markdown",
      "metadata": {
        "id": "2iI7udBFeDlP"
      },
      "source": [
        "## Exercício 2.2\n",
        "\n",
        "Em programação matricial, não se faz o loop em cada elemento da matriz,\n",
        "mas sim, utiliza-se operações matriciais.\n",
        "\n",
        "Dada a matriz `A` abaixo, calcule a média dos valores de cada linha sem utilizar laços explícitos.\n",
        "\n",
        "Utilize apenas a biblioteca numpy."
      ]
    },
    {
      "cell_type": "code",
      "metadata": {
        "id": "cjrXf18N5KrK"
      },
      "source": [
        "import numpy as np"
      ],
      "execution_count": 3,
      "outputs": []
    },
    {
      "cell_type": "code",
      "metadata": {
        "id": "-fqxgNBW27Z0",
        "colab": {
          "base_uri": "https://localhost:8080/"
        },
        "outputId": "7a0f901f-b392-4dfc-d44d-c4d73f12524e"
      },
      "source": [
        "A = np.arange(24).reshape(4, 6)\n",
        "print(A)"
      ],
      "execution_count": null,
      "outputs": [
        {
          "output_type": "stream",
          "name": "stdout",
          "text": [
            "[[ 0  1  2  3  4  5]\n",
            " [ 6  7  8  9 10 11]\n",
            " [12 13 14 15 16 17]\n",
            " [18 19 20 21 22 23]]\n"
          ]
        }
      ]
    },
    {
      "cell_type": "code",
      "metadata": {
        "id": "J1EmKFrT5g7B",
        "colab": {
          "base_uri": "https://localhost:8080/"
        },
        "outputId": "b6f4ff19-12d5-4968-8457-e102f11c34fd"
      },
      "source": [
        "# Escreva sua solução aqui.\n",
        "print(np.mean(A, axis=1))"
      ],
      "execution_count": null,
      "outputs": [
        {
          "output_type": "stream",
          "name": "stdout",
          "text": [
            "[ 2.5  8.5 14.5 20.5]\n"
          ]
        }
      ]
    },
    {
      "cell_type": "markdown",
      "metadata": {
        "id": "JtgSAAKjUfcO"
      },
      "source": [
        "## Exercício 2.3\n",
        "\n",
        "Seja a matriz $C$ que é a normalização da matriz $A$:\n",
        "$$ C(i,j) = \\frac{A(i,j) - A_{min}}{A_{max} - A_{min}} $$\n",
        "\n",
        "Normalizar a matriz `A` do exercício acima de forma que seus valores fiquem entre 0 e 1."
      ]
    },
    {
      "cell_type": "code",
      "metadata": {
        "ExecuteTime": {
          "end_time": "2019-12-11T00:00:34.072719Z",
          "start_time": "2019-12-11T00:00:34.036017Z"
        },
        "id": "_pDhb2-0eDlS",
        "colab": {
          "base_uri": "https://localhost:8080/"
        },
        "outputId": "cd31632a-71f3-4f30-e8a4-3670b1ec62ba"
      },
      "source": [
        "# Escreva sua solução aqui.\n",
        "C = (A - np.min(A))/(np.max(A)-np.min(A))\n",
        "print(C)"
      ],
      "execution_count": null,
      "outputs": [
        {
          "output_type": "stream",
          "name": "stdout",
          "text": [
            "[[0.         0.04347826 0.08695652 0.13043478 0.17391304 0.2173913 ]\n",
            " [0.26086957 0.30434783 0.34782609 0.39130435 0.43478261 0.47826087]\n",
            " [0.52173913 0.56521739 0.60869565 0.65217391 0.69565217 0.73913043]\n",
            " [0.7826087  0.82608696 0.86956522 0.91304348 0.95652174 1.        ]]\n"
          ]
        }
      ]
    },
    {
      "cell_type": "markdown",
      "metadata": {
        "id": "GF_P_GARU62m"
      },
      "source": [
        "## Exercício 2.4\n",
        "\n",
        "Modificar o exercício anterior de forma que os valores de cada *coluna* da matriz `A` sejam normalizados entre 0 e 1 independentemente dos valores das outras colunas.\n"
      ]
    },
    {
      "cell_type": "code",
      "metadata": {
        "id": "6NgVzFOYeDla",
        "colab": {
          "base_uri": "https://localhost:8080/"
        },
        "outputId": "b30449c6-97bd-47cb-adf7-30fcbd9d0828"
      },
      "source": [
        "# Escreva sua solução aqui.\n",
        "D = (A - np.min(A,axis=0))/(np.max(A,axis=0)-np.min(A,axis=0))\n",
        "print(D)"
      ],
      "execution_count": null,
      "outputs": [
        {
          "output_type": "stream",
          "name": "stdout",
          "text": [
            "[[0.         0.         0.         0.         0.         0.        ]\n",
            " [0.33333333 0.33333333 0.33333333 0.33333333 0.33333333 0.33333333]\n",
            " [0.66666667 0.66666667 0.66666667 0.66666667 0.66666667 0.66666667]\n",
            " [1.         1.         1.         1.         1.         1.        ]]\n"
          ]
        }
      ]
    },
    {
      "cell_type": "markdown",
      "metadata": {
        "id": "cbXIXsDIUmtp"
      },
      "source": [
        "## Exercício 2.5\n",
        "\n",
        "Modificar o exercício anterior de forma que os valores de cada *linha* da matriz `A` sejam normalizados entre 0 e 1 independentemente dos valores das outras linhas.\n"
      ]
    },
    {
      "cell_type": "code",
      "metadata": {
        "ExecuteTime": {
          "end_time": "2019-12-10T17:56:40.413601Z",
          "start_time": "2019-12-10T17:56:40.405056Z"
        },
        "id": "i-5Hv8-heDlW",
        "colab": {
          "base_uri": "https://localhost:8080/"
        },
        "outputId": "5d9db6d1-0c57-4f98-e426-2a20d9ba7a00"
      },
      "source": [
        "# Escreva sua solução aqui.\n",
        "E = (A - np.min(A,axis=1).reshape(4,1))/(np.max(A,axis=1)-np.min(A,axis=1)).reshape(4,1)\n",
        "print(E)"
      ],
      "execution_count": null,
      "outputs": [
        {
          "output_type": "stream",
          "name": "stdout",
          "text": [
            "[[0.  0.2 0.4 0.6 0.8 1. ]\n",
            " [0.  0.2 0.4 0.6 0.8 1. ]\n",
            " [0.  0.2 0.4 0.6 0.8 1. ]\n",
            " [0.  0.2 0.4 0.6 0.8 1. ]]\n"
          ]
        }
      ]
    },
    {
      "cell_type": "markdown",
      "metadata": {
        "id": "QKnLAyL7zgpa"
      },
      "source": [
        "## Exercício 2.6\n",
        "\n",
        "A [função softmax](https://en.wikipedia.org/wiki/Softmax_function) é bastante usada em apredizado de máquina para converter uma lista de números para uma distribuição de probabilidade, isto é, os números ficarão normalizados entre zero e um e sua soma será igual à um.\n",
        "\n",
        "Implemente a função softmax com suporte para batches, ou seja, o softmax deve ser aplicado a cada linha da matriz. Deve-se usar apenas a biblioteca numpy. Se atente que a exponenciação gera estouro de representação quando os números da entrada são muito grandes. Tente corrigir isto."
      ]
    },
    {
      "cell_type": "code",
      "metadata": {
        "id": "lA5W9vxNEmOj"
      },
      "source": [
        "import numpy as np\n",
        "\n",
        "\n",
        "def softmax(A):\n",
        "    '''\n",
        "    Aplica a função de softmax à matriz `A`.\n",
        "\n",
        "    Entrada:\n",
        "      `A` é uma matriz M x N, onde M é o número de exemplos a serem processados\n",
        "      independentemente e N é o tamanho de cada exemplo.\n",
        "    \n",
        "    Saída:\n",
        "      Uma matriz M x N, onde a soma de cada linha é igual a um.\n",
        "    '''\n",
        "    C = (A - np.min(A))/(np.max(A)-np.min(A))\n",
        " \n",
        "    return  np.exp(C) / np.sum(np.exp(C), axis=1,  keepdims=True)"
      ],
      "execution_count": null,
      "outputs": []
    },
    {
      "cell_type": "markdown",
      "metadata": {
        "id": "gpxlbh4ND54q"
      },
      "source": [
        "Mostre que sua implementação está correta usando uma matriz pequena como entrada:"
      ]
    },
    {
      "cell_type": "code",
      "metadata": {
        "id": "L6EZ5ZD7HFao",
        "colab": {
          "base_uri": "https://localhost:8080/"
        },
        "outputId": "088f1cbc-5641-497b-c37c-c9ee4d5eb381"
      },
      "source": [
        "A = np.array([[0.5, -1, 1000],\n",
        "              [-2,   0, 0.5]])\n",
        "softmax(A)"
      ],
      "execution_count": null,
      "outputs": [
        {
          "output_type": "execute_result",
          "data": {
            "text/plain": [
              "array([[0.21231367, 0.21199608, 0.57569025],\n",
              "       [0.33283451, 0.33349952, 0.33366597]])"
            ]
          },
          "metadata": {},
          "execution_count": 130
        }
      ]
    },
    {
      "cell_type": "markdown",
      "metadata": {
        "id": "9j2uXmKH8HF4"
      },
      "source": [
        "O código a seguir verifica se sua implementação do softmax está correta. \n",
        "- A soma de cada linha de A deve ser 1;\n",
        "- Os valores devem estar entre 0 e 1"
      ]
    },
    {
      "cell_type": "code",
      "metadata": {
        "id": "r-sN4STk7qyN",
        "colab": {
          "base_uri": "https://localhost:8080/"
        },
        "outputId": "55a29b93-6bae-4598-dbdc-8e9292bc8fb6"
      },
      "source": [
        "np.allclose(softmax(A).sum(axis=1), 1) and softmax(A).min() >= 0 and softmax(A).max() <= 1"
      ],
      "execution_count": null,
      "outputs": [
        {
          "output_type": "execute_result",
          "data": {
            "text/plain": [
              "True"
            ]
          },
          "metadata": {},
          "execution_count": 131
        }
      ]
    },
    {
      "cell_type": "markdown",
      "metadata": {
        "id": "B5_ZRWRfCZtI"
      },
      "source": [
        "Mostre que sua implementação é eficiente usando uma matriz grande como entrada:"
      ]
    },
    {
      "cell_type": "code",
      "metadata": {
        "id": "bhUeyrGaJ3J2"
      },
      "source": [
        "A = np.random.uniform(low=-10, high=10, size=(128, 100_000))"
      ],
      "execution_count": null,
      "outputs": []
    },
    {
      "cell_type": "code",
      "metadata": {
        "id": "jaa-C8XkKJin",
        "colab": {
          "base_uri": "https://localhost:8080/"
        },
        "outputId": "e93aae0d-693e-4e75-f683-b812318d354c"
      },
      "source": [
        "%%timeit\n",
        "softmax(A)"
      ],
      "execution_count": null,
      "outputs": [
        {
          "output_type": "stream",
          "name": "stdout",
          "text": [
            "1 loop, best of 5: 467 ms per loop\n"
          ]
        }
      ]
    },
    {
      "cell_type": "code",
      "metadata": {
        "id": "4XE6LaWi81zZ",
        "colab": {
          "base_uri": "https://localhost:8080/"
        },
        "outputId": "82573733-1920-4d50-8ed1-bdb00833dfb6"
      },
      "source": [
        "SM = softmax(A)\n",
        "np.allclose(SM.sum(axis=1), 1) and SM.min() >= 0 and SM.max() <= 1"
      ],
      "execution_count": null,
      "outputs": [
        {
          "output_type": "execute_result",
          "data": {
            "text/plain": [
              "True"
            ]
          },
          "metadata": {},
          "execution_count": 134
        }
      ]
    },
    {
      "cell_type": "markdown",
      "metadata": {
        "id": "Flr1lI5o-HpG"
      },
      "source": [
        "## Exercício 2.7\n",
        "\n",
        "A codificação one-hot é usada para codificar entradas categóricas. É uma codificação onde apenas um bit é 1 e os demais são zero, conforme a tabela a seguir.\n",
        "\n",
        "| Decimal | Binary | One-hot\n",
        "| ------- | ------ | -------\n",
        "| 0 | 000    | 1 0 0 0 0 0 0 0\n",
        "| 1 | 001    | 0 1 0 0 0 0 0 0\n",
        "| 2 | 010    | 0 0 1 0 0 0 0 0\n",
        "| 3 | 011    | 0 0 0 1 0 0 0 0\n",
        "| 4 | 100    | 0 0 0 0 1 0 0 0\n",
        "| 5 | 101    | 0 0 0 0 0 1 0 0\n",
        "| 6 | 110    | 0 0 0 0 0 0 1 0\n",
        "| 7 | 111    | 0 0 0 0 0 0 0 1"
      ]
    },
    {
      "cell_type": "markdown",
      "metadata": {
        "id": "1CqXP_5ABbfo"
      },
      "source": [
        "Implemente a função one_hot(y, n_classes) que codifique o vetor de inteiros y que possuem valores entre 0 e n_classes-1.\n"
      ]
    },
    {
      "cell_type": "code",
      "metadata": {
        "id": "la-02w7qCH7L"
      },
      "source": [
        "def one_hot(y, n_classes):\n",
        "    # Escreva seu código aqui.\n",
        "    return np.eye(n_classes)[y]"
      ],
      "execution_count": null,
      "outputs": []
    },
    {
      "cell_type": "code",
      "metadata": {
        "id": "zf5zyZO5Aiz_",
        "colab": {
          "base_uri": "https://localhost:8080/"
        },
        "outputId": "119dd8e5-1dff-4d77-bcbb-d553410715b6"
      },
      "source": [
        "N_CLASSES = 9\n",
        "N_SAMPLES = 10\n",
        "y = (np.random.rand((N_SAMPLES)) * N_CLASSES).astype(np.int)\n",
        "print(y)\n",
        "print(one_hot(y, N_CLASSES))"
      ],
      "execution_count": null,
      "outputs": [
        {
          "output_type": "stream",
          "name": "stdout",
          "text": [
            "[4 2 3 0 2 2 2 0 2 8]\n",
            "[[0. 0. 0. 0. 1. 0. 0. 0. 0.]\n",
            " [0. 0. 1. 0. 0. 0. 0. 0. 0.]\n",
            " [0. 0. 0. 1. 0. 0. 0. 0. 0.]\n",
            " [1. 0. 0. 0. 0. 0. 0. 0. 0.]\n",
            " [0. 0. 1. 0. 0. 0. 0. 0. 0.]\n",
            " [0. 0. 1. 0. 0. 0. 0. 0. 0.]\n",
            " [0. 0. 1. 0. 0. 0. 0. 0. 0.]\n",
            " [1. 0. 0. 0. 0. 0. 0. 0. 0.]\n",
            " [0. 0. 1. 0. 0. 0. 0. 0. 0.]\n",
            " [0. 0. 0. 0. 0. 0. 0. 0. 1.]]\n"
          ]
        },
        {
          "output_type": "stream",
          "name": "stderr",
          "text": [
            "/usr/local/lib/python3.7/dist-packages/ipykernel_launcher.py:3: DeprecationWarning: `np.int` is a deprecated alias for the builtin `int`. To silence this warning, use `int` by itself. Doing this will not modify any behavior and is safe. When replacing `np.int`, you may wish to use e.g. `np.int64` or `np.int32` to specify the precision. If you wish to review your current use, check the release note link for additional information.\n",
            "Deprecated in NumPy 1.20; for more details and guidance: https://numpy.org/devdocs/release/1.20.0-notes.html#deprecations\n",
            "  This is separate from the ipykernel package so we can avoid doing imports until\n"
          ]
        }
      ]
    },
    {
      "cell_type": "markdown",
      "metadata": {
        "id": "6nwuKnQUCzve"
      },
      "source": [
        "Mostre que sua implementação é eficiente usando uma matriz grande como entrada:"
      ]
    },
    {
      "cell_type": "code",
      "metadata": {
        "id": "uwuFy5rWC2tA",
        "colab": {
          "base_uri": "https://localhost:8080/"
        },
        "outputId": "51c78cd0-6baf-4e01-96e8-8600ecdf7870"
      },
      "source": [
        "N_SAMPLES = 100_000\n",
        "N_CLASSES = 1_000\n",
        "y = (np.random.rand((N_SAMPLES)) * N_CLASSES).astype(np.int)"
      ],
      "execution_count": null,
      "outputs": [
        {
          "output_type": "stream",
          "name": "stderr",
          "text": [
            "/usr/local/lib/python3.7/dist-packages/ipykernel_launcher.py:3: DeprecationWarning: `np.int` is a deprecated alias for the builtin `int`. To silence this warning, use `int` by itself. Doing this will not modify any behavior and is safe. When replacing `np.int`, you may wish to use e.g. `np.int64` or `np.int32` to specify the precision. If you wish to review your current use, check the release note link for additional information.\n",
            "Deprecated in NumPy 1.20; for more details and guidance: https://numpy.org/devdocs/release/1.20.0-notes.html#deprecations\n",
            "  This is separate from the ipykernel package so we can avoid doing imports until\n"
          ]
        }
      ]
    },
    {
      "cell_type": "code",
      "metadata": {
        "id": "7azMtF7wDJ2_",
        "colab": {
          "base_uri": "https://localhost:8080/"
        },
        "outputId": "831853e8-d616-4a69-f022-5dd171781e0f"
      },
      "source": [
        "%%timeit\n",
        "one_hot(y, N_CLASSES)"
      ],
      "execution_count": null,
      "outputs": [
        {
          "output_type": "stream",
          "name": "stdout",
          "text": [
            "10 loops, best of 5: 99.7 ms per loop\n"
          ]
        }
      ]
    },
    {
      "cell_type": "markdown",
      "metadata": {
        "id": "lqMroZay2ubi"
      },
      "source": [
        "## Exercício 2.8\n",
        "\n",
        "Implemente uma classe que normalize um array de pontos flutuantes `array_a` para a mesma média e desvio padrão de um outro array `array_b`, conforme exemplo abaixo:\n",
        "```\n",
        "array_a = np.array([-1, 1.5, 0])\n",
        "array_b = np.array([1.4, 0.8, 0.3, 2.5])\n",
        "normalize = Normalizer(array_b)\n",
        "normalized_array = normalize(array_a)\n",
        "print(normalized_array)  # Deve imprimir [0.3187798  2.31425165 1.11696854]\n",
        "```"
      ]
    },
    {
      "cell_type": "code",
      "metadata": {
        "id": "qaedJ5Cf5Oy2"
      },
      "source": [
        "def Normalizer(array):\n",
        "  std = np.std(array)\n",
        "  mean = np.mean(array)\n",
        "  def norm(array_a):\n",
        "    new_norm = (array_a - np.mean(array_a)) / np.std(array_a)\n",
        "    return new_norm * std + mean\n",
        "  return norm"
      ],
      "execution_count": 5,
      "outputs": []
    },
    {
      "cell_type": "markdown",
      "metadata": {
        "id": "dlkNNU6h5RbR"
      },
      "source": [
        "Mostre que seu código está correto com o exemplo abaixo:"
      ]
    },
    {
      "cell_type": "code",
      "metadata": {
        "id": "Gad6zsbh5a0D",
        "colab": {
          "base_uri": "https://localhost:8080/"
        },
        "outputId": "c3e4a500-7275-4348-e2ce-2b5158e56f24"
      },
      "source": [
        "array_a = [-1, 1.5, 0]\n",
        "array_b = [1.4, 0.8, 0.3, 2.5]\n",
        "normalize = Normalizer(array_b)\n",
        "normalized_array = normalize(array_a)\n",
        "print(normalized_array)\n"
      ],
      "execution_count": 6,
      "outputs": [
        {
          "output_type": "stream",
          "name": "stdout",
          "text": [
            "[0.3187798  2.31425165 1.11696854]\n"
          ]
        }
      ]
    },
    {
      "cell_type": "markdown",
      "metadata": {
        "id": "vrGVQFUYI_LP"
      },
      "source": [
        "# Parte 3:\n",
        "\n",
        "##Exercícios Pytorch: Grafo Computacional e Gradientes\n",
        "\n",
        "Nesta parte pode-se usar quaisquer bibliotecas."
      ]
    },
    {
      "cell_type": "markdown",
      "metadata": {
        "id": "BIlQdKAuCZtR"
      },
      "source": [
        "Um dos principais fundamentos para que o PyTorch seja adequado para deep learning é a sua habilidade de calcular o gradiente automaticamente a partir da expressões definidas. Essa facilidade é implementada através do cálculo automático do gradiente e construção dinâmica do grafo computacional."
      ]
    },
    {
      "cell_type": "markdown",
      "metadata": {
        "id": "ZF_-dJ2nCZtT"
      },
      "source": [
        "## Grafo computacional\n",
        "\n",
        "Seja um exemplo simples de uma função de perda J dada pela Soma dos Erros ao Quadrado (SEQ - Sum of Squared Errors): \n",
        "$$ J = \\sum_i (x_i w - y_i)^2 $$\n",
        "que pode ser reescrita como:\n",
        "$$ \\hat{y_i} = x_i w $$\n",
        "$$ e_i = \\hat{y_i} - y_i $$\n",
        "$$ e2_i = e_i^2 $$\n",
        "$$ J = \\sum_i e2_i $$\n",
        "\n",
        "As redes neurais são treinadas através da minimização de uma função de perda usando o método do gradiente descendente. Para ajustar o parâmetro $w$ precisamos calcular o gradiente $  \\frac{ \\partial J}{\\partial w} $. Usando a\n",
        "regra da cadeia podemos escrever:\n",
        "$$ \\frac{ \\partial J}{\\partial w} = \\frac{ \\partial J}{\\partial e2_i} \\frac{ \\partial e2_i}{\\partial e_i} \\frac{ \\partial e_i}{\\partial \\hat{y_i} } \\frac{ \\partial \\hat{y_i}}{\\partial w}$$ "
      ]
    },
    {
      "cell_type": "markdown",
      "metadata": {
        "id": "jboejVQMCZtU"
      },
      "source": [
        "```\n",
        "    y_pred = x * w\n",
        "    e = y_pred - y\n",
        "    e2 = e**2\n",
        "    J = e2.sum()\n",
        "```"
      ]
    },
    {
      "cell_type": "markdown",
      "metadata": {
        "id": "n7JmU6qhc2Y2"
      },
      "source": [
        "As quatro expressões acima, para o cálculo do J podem ser representadas pelo grafo computacional visualizado a seguir: os círculos são as variáveis (tensores), os quadrados são as operações, os números em preto são os cálculos durante a execução das quatro expressões para calcular o J (forward, predict). O cálculo do gradiente, mostrado em vermelho, é calculado pela regra da cadeia, de trás para frente (backward)."
      ]
    },
    {
      "cell_type": "markdown",
      "metadata": {
        "id": "KeeEBKl4CZtV"
      },
      "source": [
        "<img src=\"https://raw.githubusercontent.com/robertoalotufo/files/master/figures/GrafoComputacional.png\" width=\"600pt\"/>"
      ]
    },
    {
      "cell_type": "markdown",
      "metadata": {
        "id": "8yZun7wrCZtX"
      },
      "source": [
        "Para entender melhor o funcionamento do grafo computacional com os tensores, recomenda-se leitura em:\n",
        "\n",
        "https://pytorch.org/docs/stable/notes/autograd.html"
      ]
    },
    {
      "cell_type": "code",
      "metadata": {
        "ExecuteTime": {
          "end_time": "2019-12-11T00:23:00.431853Z",
          "start_time": "2019-12-11T00:23:00.414813Z"
        },
        "id": "HlT2d-4fCZtZ"
      },
      "source": [
        "import torch"
      ],
      "execution_count": null,
      "outputs": []
    },
    {
      "cell_type": "code",
      "metadata": {
        "ExecuteTime": {
          "end_time": "2019-12-11T00:23:00.863228Z",
          "start_time": "2019-12-11T00:23:00.844457Z"
        },
        "id": "xX0QwUduCZtf",
        "colab": {
          "base_uri": "https://localhost:8080/",
          "height": 35
        },
        "outputId": "2e8bf71a-e724-47a8-97f3-5fd36c8aa59f"
      },
      "source": [
        "torch.__version__"
      ],
      "execution_count": null,
      "outputs": [
        {
          "output_type": "execute_result",
          "data": {
            "text/plain": [
              "'1.10.0+cu111'"
            ],
            "application/vnd.google.colaboratory.intrinsic+json": {
              "type": "string"
            }
          },
          "metadata": {},
          "execution_count": 151
        }
      ]
    },
    {
      "cell_type": "markdown",
      "metadata": {
        "id": "vsqzALS4CZtl"
      },
      "source": [
        "**Tensor com atributo .requires_grad=True**\n",
        "\n",
        "Quando um tensor possui o atributo `requires_grad` como verdadeiro, qualquer expressão que utilizar esse tensor irá construir um grafo computacional para permitir posteriormente, após calcular a função a ser derivada, poder usar a regra da cadeia e calcular o gradiente da função em termos dos tensores que possuem o atributo `requires_grad`.\n"
      ]
    },
    {
      "cell_type": "code",
      "metadata": {
        "ExecuteTime": {
          "end_time": "2019-09-29T03:07:22.117010Z",
          "start_time": "2019-09-29T03:07:22.041861Z"
        },
        "id": "foaAb94aCZtm",
        "colab": {
          "base_uri": "https://localhost:8080/"
        },
        "outputId": "94fbcccd-7998-44a2-803f-f532b0365e71"
      },
      "source": [
        "y = torch.arange(0, 8, 2).float()\n",
        "y"
      ],
      "execution_count": null,
      "outputs": [
        {
          "output_type": "execute_result",
          "data": {
            "text/plain": [
              "tensor([0., 2., 4., 6.])"
            ]
          },
          "metadata": {},
          "execution_count": 152
        }
      ]
    },
    {
      "cell_type": "code",
      "metadata": {
        "ExecuteTime": {
          "end_time": "2019-09-29T03:07:28.610934Z",
          "start_time": "2019-09-29T03:07:28.598223Z"
        },
        "id": "no6SdSyICZtr",
        "colab": {
          "base_uri": "https://localhost:8080/"
        },
        "outputId": "4990d571-aea0-45b8-efac-455f7abbbb1d"
      },
      "source": [
        "x = torch.arange(0, 4).float()\n",
        "x"
      ],
      "execution_count": null,
      "outputs": [
        {
          "output_type": "execute_result",
          "data": {
            "text/plain": [
              "tensor([0., 1., 2., 3.])"
            ]
          },
          "metadata": {},
          "execution_count": 153
        }
      ]
    },
    {
      "cell_type": "code",
      "metadata": {
        "ExecuteTime": {
          "end_time": "2019-09-29T03:07:31.523762Z",
          "start_time": "2019-09-29T03:07:31.497683Z"
        },
        "id": "eL_i1mwGCZtw",
        "colab": {
          "base_uri": "https://localhost:8080/"
        },
        "outputId": "c10a42da-af92-4b27-da74-bcead6fe9ef9"
      },
      "source": [
        "w = torch.ones(1, requires_grad=True)\n",
        "w"
      ],
      "execution_count": null,
      "outputs": [
        {
          "output_type": "execute_result",
          "data": {
            "text/plain": [
              "tensor([1.], requires_grad=True)"
            ]
          },
          "metadata": {},
          "execution_count": 155
        }
      ]
    },
    {
      "cell_type": "markdown",
      "metadata": {
        "id": "qjEl-0l7CZt0"
      },
      "source": [
        "## Cálculo automático do gradiente da função perda J"
      ]
    },
    {
      "cell_type": "markdown",
      "metadata": {
        "id": "8pUh-SCnCZt1"
      },
      "source": [
        "Seja a expressão: $$ J = \\sum_i ((x_i  w) - y_i)^2 $$\n",
        "\n",
        "Queremos calcular a derivada de $J$ em relação a $w$."
      ]
    },
    {
      "cell_type": "markdown",
      "metadata": {
        "id": "eMwwVtJ1CZt2"
      },
      "source": [
        "## Forward pass\n",
        "\n",
        "Durante a execução da expressão, o grafo computacional é criado. Compare os valores de cada parcela calculada com os valores em preto da figura ilustrativa do grafo computacional."
      ]
    },
    {
      "cell_type": "code",
      "metadata": {
        "ExecuteTime": {
          "end_time": "2019-09-29T03:07:36.290122Z",
          "start_time": "2019-09-29T03:07:36.273229Z"
        },
        "id": "zp2aK4YhCZt3",
        "colab": {
          "base_uri": "https://localhost:8080/"
        },
        "outputId": "6ce31fa7-143f-451d-a622-9a2f029288d9"
      },
      "source": [
        "# predict (forward)\n",
        "y_pred = x * w; print('y_pred =', y_pred)\n",
        "\n",
        "# cálculo da perda J: loss\n",
        "e = y_pred - y; print('e =',e)\n",
        "e2 = e.pow(2) ; print('e2 =', e2)\n",
        "J = e2.sum()  ; print('J =', J)"
      ],
      "execution_count": null,
      "outputs": [
        {
          "output_type": "stream",
          "name": "stdout",
          "text": [
            "y_pred = tensor([0., 1., 2., 3.], grad_fn=<MulBackward0>)\n",
            "e = tensor([ 0., -1., -2., -3.], grad_fn=<SubBackward0>)\n",
            "e2 = tensor([0., 1., 4., 9.], grad_fn=<PowBackward0>)\n",
            "J = tensor(14., grad_fn=<SumBackward0>)\n"
          ]
        }
      ]
    },
    {
      "cell_type": "markdown",
      "metadata": {
        "id": "XC96wB7PCZt8"
      },
      "source": [
        "## Backward pass"
      ]
    },
    {
      "cell_type": "markdown",
      "metadata": {
        "ExecuteTime": {
          "end_time": "2017-10-04T15:55:45.308858",
          "start_time": "2017-10-04T15:55:45.304654"
        },
        "id": "kKbf4D0CCZt-"
      },
      "source": [
        "O `backward()` varre o grafo computacional a partir da variável a ele associada (raiz) e calcula o gradiente para todos os tensores que possuem o atributo `requires_grad` como verdadeiro.\n",
        "Observe que os tensores que tiverem o atributo `requires_grad` serão sempre folhas no grafo computacional.\n",
        "O `backward()` destroi o grafo após sua execução. Esse comportamento é padrão no PyTorch. \n",
        "\n",
        "A título ilustrativo, se quisermos depurar os gradientes dos nós que não são folhas no grafo computacional, precisamos primeiro invocar `retain_grad()` em cada um desses nós, como a seguir. Entretanto nos exemplos reais não há necessidade de verificar o gradiente desses nós."
      ]
    },
    {
      "cell_type": "code",
      "metadata": {
        "id": "f-CjLPu6clVo"
      },
      "source": [
        "e2.retain_grad()\n",
        "e.retain_grad()\n",
        "y_pred.retain_grad()"
      ],
      "execution_count": null,
      "outputs": []
    },
    {
      "cell_type": "markdown",
      "metadata": {
        "id": "WtsZS2Bicof-"
      },
      "source": [
        "E agora calculamos os gradientes com o `backward()`.\n",
        "\n",
        "w.grad é o gradiente de J em relação a w."
      ]
    },
    {
      "cell_type": "code",
      "metadata": {
        "ExecuteTime": {
          "end_time": "2019-09-29T03:07:40.267334Z",
          "start_time": "2019-09-29T03:07:40.247422Z"
        },
        "id": "Z1lnkb0GCZt_",
        "colab": {
          "base_uri": "https://localhost:8080/"
        },
        "outputId": "ef5fc8ad-f0bf-4c15-88fd-5304584974aa"
      },
      "source": [
        "if w.grad: w.grad.zero_()\n",
        "J.backward()\n",
        "print(w.grad)"
      ],
      "execution_count": null,
      "outputs": [
        {
          "output_type": "stream",
          "name": "stdout",
          "text": [
            "tensor([-28.])\n"
          ]
        }
      ]
    },
    {
      "cell_type": "markdown",
      "metadata": {
        "id": "N1xYDPR_uOcZ"
      },
      "source": [
        "Mostramos agora os gradientes que estão grafados em vermelho no grafo computacional:"
      ]
    },
    {
      "cell_type": "code",
      "metadata": {
        "id": "Enuk2tf0sDyO",
        "colab": {
          "base_uri": "https://localhost:8080/"
        },
        "outputId": "94914ec0-4279-413a-d8a7-1bce464b93e3"
      },
      "source": [
        "print(e2.grad)\n",
        "print(e.grad)\n",
        "print(y_pred.grad)"
      ],
      "execution_count": null,
      "outputs": [
        {
          "output_type": "stream",
          "name": "stdout",
          "text": [
            "tensor([1., 1., 1., 1.])\n",
            "tensor([ 0., -2., -4., -6.])\n",
            "tensor([ 0., -2., -4., -6.])\n"
          ]
        }
      ]
    },
    {
      "cell_type": "markdown",
      "metadata": {
        "id": "LsOThnt8fDJV"
      },
      "source": [
        "##Exercício 3.1\n",
        "Calcule o mesmo gradiente ilustrado no exemplo anterior usando a regra das diferenças finitas, de acordo com a equação a seguir, utilizando um valor de $\\Delta w$ bem pequeno.\n",
        "\n",
        "$$ \\frac{\\partial J}{\\partial w} = \\frac{J(w + \\Delta w) - J(w - \\Delta w)}{2 \\Delta w} $$"
      ]
    },
    {
      "cell_type": "code",
      "metadata": {
        "hidden": true,
        "id": "62nZAfUoCZu5",
        "colab": {
          "base_uri": "https://localhost:8080/"
        },
        "outputId": "7ddd8375-d3ca-441a-94f7-020daa00c89a"
      },
      "source": [
        "def J_func(w, x, y):\n",
        "    # programe a função J_func, para facilitar\n",
        "    y_pred = x * w\n",
        "    e = y_pred - y\n",
        "    e2 = e.pow(2)\n",
        "    J = e2.sum() \n",
        "    return J\n",
        "\n",
        "def dJ_diff (w, x, y, delt_w):\n",
        "  return (J_func((w+delt_w), x, y) - J_func((w - delt_w), x, y))/(2*delt_w)\n",
        "\n",
        "# Calcule o gradiente usando a regra diferenças finitas\n",
        "# Confira com o valor já calculado anteriormente\n",
        "x = torch.arange(0, 4).float()\n",
        "y = torch.arange(0, 8, 2).float()\n",
        "w = torch.ones(1)\n",
        "delt_w = 1e-3\n",
        "\n",
        "grad = dJ_diff(w, x, y,delt_w)\n",
        "print('grad=', grad)"
      ],
      "execution_count": null,
      "outputs": [
        {
          "output_type": "stream",
          "name": "stdout",
          "text": [
            "grad= tensor(-28.0008)\n"
          ]
        }
      ]
    },
    {
      "cell_type": "markdown",
      "metadata": {
        "id": "O_Sx1QXZxJ3u"
      },
      "source": [
        "##Exercício 3.2\n",
        "\n",
        "Minimizando $J$ pelo gradiente descendente\n",
        "\n",
        "$$ w_{k+1} = w_k - \\lambda \\frac {\\partial J}{\\partial w} $$\n",
        "\n",
        "Supondo que valor inicial ($k=0$) $w_0 = 1$, use learning rate $\\lambda = 0.01$ para calcular o valor do novo $w_{20}$, ou seja, fazendo 20 atualizações de gradientes. Deve-se usar a função `J_func` criada no exercício anterior.\n",
        "\n",
        "Confira se o valor do primeiro gradiente está de acordo com os valores já calculado acima"
      ]
    },
    {
      "cell_type": "code",
      "metadata": {
        "id": "PNszCOED1Wtu",
        "colab": {
          "base_uri": "https://localhost:8080/",
          "height": 1000
        },
        "outputId": "efd0edad-d934-4017-a584-0a62d4578cc2"
      },
      "source": [
        "import matplotlib.pyplot as plt\n",
        "\n",
        "loss = []\n",
        "learning_rate = 0.01\n",
        "iteracoes = 20\n",
        "\n",
        "x = torch.arange(0, 4).float()\n",
        "y = torch.arange(0, 8, 2).float()\n",
        "w = torch.ones(1)\n",
        "\n",
        "for i in range(iteracoes):\n",
        "    print('i =', i)\n",
        "    J = J_func(w, x, y)\n",
        "    loss.append(J)\n",
        "    print('J=', J)\n",
        "    grad = dJ_diff(w, x, y,delt_w)\n",
        "    print('grad =',grad)\n",
        "    w = w - learning_rate*grad\n",
        "    print('w =', w)\n",
        "\n",
        "# Plote o gráfico da loss J pela iteração i\n",
        "\n",
        "# Plote o gráfico da loss J pela iteração i\n",
        "plt.plot(loss, 'r')\n",
        "plt.xticks(range(iteracoes))\n",
        "plt.xlabel('Interações i')\n",
        "plt.ylabel('LOSS (J)')\n",
        "plt.show()"
      ],
      "execution_count": null,
      "outputs": [
        {
          "output_type": "stream",
          "name": "stdout",
          "text": [
            "i = 0\n",
            "J= tensor(14.)\n",
            "grad = tensor(-28.0008)\n",
            "w = tensor([1.2800])\n",
            "i = 1\n",
            "J= tensor(7.2574)\n",
            "grad = tensor(-20.1611)\n",
            "w = tensor([1.4816])\n",
            "i = 2\n",
            "J= tensor(3.7621)\n",
            "grad = tensor(-14.5156)\n",
            "w = tensor([1.6268])\n",
            "i = 3\n",
            "J= tensor(1.9501)\n",
            "grad = tensor(-10.4510)\n",
            "w = tensor([1.7313])\n",
            "i = 4\n",
            "J= tensor(1.0109)\n",
            "grad = tensor(-7.5245)\n",
            "w = tensor([1.8065])\n",
            "i = 5\n",
            "J= tensor(0.5240)\n",
            "grad = tensor(-5.4175)\n",
            "w = tensor([1.8607])\n",
            "i = 6\n",
            "J= tensor(0.2716)\n",
            "grad = tensor(-3.9003)\n",
            "w = tensor([1.8997])\n",
            "i = 7\n",
            "J= tensor(0.1408)\n",
            "grad = tensor(-2.8083)\n",
            "w = tensor([1.9278])\n",
            "i = 8\n",
            "J= tensor(0.0730)\n",
            "grad = tensor(-2.0218)\n",
            "w = tensor([1.9480])\n",
            "i = 9\n",
            "J= tensor(0.0378)\n",
            "grad = tensor(-1.4557)\n",
            "w = tensor([1.9626])\n",
            "i = 10\n",
            "J= tensor(0.0196)\n",
            "grad = tensor(-1.0482)\n",
            "w = tensor([1.9731])\n",
            "i = 11\n",
            "J= tensor(0.0102)\n",
            "grad = tensor(-0.7546)\n",
            "w = tensor([1.9806])\n",
            "i = 12\n",
            "J= tensor(0.0053)\n",
            "grad = tensor(-0.5433)\n",
            "w = tensor([1.9860])\n",
            "i = 13\n",
            "J= tensor(0.0027)\n",
            "grad = tensor(-0.3912)\n",
            "w = tensor([1.9899])\n",
            "i = 14\n",
            "J= tensor(0.0014)\n",
            "grad = tensor(-0.2816)\n",
            "w = tensor([1.9928])\n",
            "i = 15\n",
            "J= tensor(0.0007)\n",
            "grad = tensor(-0.2028)\n",
            "w = tensor([1.9948])\n",
            "i = 16\n",
            "J= tensor(0.0004)\n",
            "grad = tensor(-0.1460)\n",
            "w = tensor([1.9962])\n",
            "i = 17\n",
            "J= tensor(0.0002)\n",
            "grad = tensor(-0.1051)\n",
            "w = tensor([1.9973])\n",
            "i = 18\n",
            "J= tensor(0.0001)\n",
            "grad = tensor(-0.0757)\n",
            "w = tensor([1.9981])\n",
            "i = 19\n",
            "J= tensor(5.3023e-05)\n",
            "grad = tensor(-0.0545)\n",
            "w = tensor([1.9986])\n"
          ]
        },
        {
          "output_type": "display_data",
          "data": {
            "text/plain": [
              "<Figure size 432x288 with 1 Axes>"
            ],
            "image/png": "[encoded data removed]"
          },
          "metadata": {
            "needs_background": "light"
          }
        }
      ]
    },
    {
      "cell_type": "markdown",
      "metadata": {
        "id": "JBXxBmWGK3IU"
      },
      "source": [
        "##Exercício 3.3\n",
        "\n",
        "Repita o exercício 2 mas usando agora o calculando o gradiente usando o método backward() do pytorch. Confira se o primeiro valor do gradiente está de acordo com os valores anteriores. Execute essa próxima célula duas vezes. Os valores devem ser iguais.\n"
      ]
    },
    {
      "cell_type": "code",
      "metadata": {
        "id": "lMP4d5vtHtqy",
        "colab": {
          "base_uri": "https://localhost:8080/",
          "height": 1000
        },
        "outputId": "f55d187a-4369-4dfb-c7b9-26a345e21748"
      },
      "source": [
        "learning_rate = 0.01\n",
        "iteracoes = 20\n",
        "loss = []\n",
        "\n",
        "x = torch.arange(0, 4).float()\n",
        "y = torch.arange(0, 8, 2).float()\n",
        "w = torch.ones(1, requires_grad=True)\n",
        "\n",
        "for i in range(iteracoes):\n",
        "    print('i =', i)\n",
        "    J = J_func(w, x, y)  \n",
        "    print('J=', J)\n",
        "    J.backward()\n",
        "    loss.append(J.detach().numpy())\n",
        "    grad = w.grad  \n",
        "    print('grad =',grad)\n",
        "    w = w - learning_rate*grad\n",
        "    w.retain_grad()\n",
        "    print('w =', w)\n",
        "\n",
        "\n",
        "# Plote aqui a loss pela iteração\n",
        "\n",
        "plt.plot(loss, 'r')\n",
        "plt.xticks(range(iteracoes))\n",
        "plt.xlabel('Interações i')\n",
        "plt.ylabel('LOSS (J)')\n",
        "plt.show()"
      ],
      "execution_count": null,
      "outputs": [
        {
          "output_type": "stream",
          "name": "stdout",
          "text": [
            "i = 0\n",
            "J= tensor(14., grad_fn=<SumBackward0>)\n",
            "grad = tensor([-28.])\n",
            "w = tensor([1.2800], grad_fn=<SubBackward0>)\n",
            "i = 1\n",
            "J= tensor(7.2576, grad_fn=<SumBackward0>)\n",
            "grad = tensor([-20.1600])\n",
            "w = tensor([1.4816], grad_fn=<SubBackward0>)\n",
            "i = 2\n",
            "J= tensor(3.7623, grad_fn=<SumBackward0>)\n",
            "grad = tensor([-14.5152])\n",
            "w = tensor([1.6268], grad_fn=<SubBackward0>)\n",
            "i = 3\n",
            "J= tensor(1.9504, grad_fn=<SumBackward0>)\n",
            "grad = tensor([-10.4509])\n",
            "w = tensor([1.7313], grad_fn=<SubBackward0>)\n",
            "i = 4\n",
            "J= tensor(1.0111, grad_fn=<SumBackward0>)\n",
            "grad = tensor([-7.5247])\n",
            "w = tensor([1.8065], grad_fn=<SubBackward0>)\n",
            "i = 5\n",
            "J= tensor(0.5241, grad_fn=<SumBackward0>)\n",
            "grad = tensor([-5.4178])\n",
            "w = tensor([1.8607], grad_fn=<SubBackward0>)\n",
            "i = 6\n",
            "J= tensor(0.2717, grad_fn=<SumBackward0>)\n",
            "grad = tensor([-3.9008])\n",
            "w = tensor([1.8997], grad_fn=<SubBackward0>)\n",
            "i = 7\n",
            "J= tensor(0.1409, grad_fn=<SumBackward0>)\n",
            "grad = tensor([-2.8086])\n",
            "w = tensor([1.9278], grad_fn=<SubBackward0>)\n",
            "i = 8\n",
            "J= tensor(0.0730, grad_fn=<SumBackward0>)\n",
            "grad = tensor([-2.0222])\n",
            "w = tensor([1.9480], grad_fn=<SubBackward0>)\n",
            "i = 9\n",
            "J= tensor(0.0379, grad_fn=<SumBackward0>)\n",
            "grad = tensor([-1.4560])\n",
            "w = tensor([1.9626], grad_fn=<SubBackward0>)\n",
            "i = 10\n",
            "J= tensor(0.0196, grad_fn=<SumBackward0>)\n",
            "grad = tensor([-1.0483])\n",
            "w = tensor([1.9730], grad_fn=<SubBackward0>)\n",
            "i = 11\n",
            "J= tensor(0.0102, grad_fn=<SumBackward0>)\n",
            "grad = tensor([-0.7548])\n",
            "w = tensor([1.9806], grad_fn=<SubBackward0>)\n",
            "i = 12\n",
            "J= tensor(0.0053, grad_fn=<SumBackward0>)\n",
            "grad = tensor([-0.5434])\n",
            "w = tensor([1.9860], grad_fn=<SubBackward0>)\n",
            "i = 13\n",
            "J= tensor(0.0027, grad_fn=<SumBackward0>)\n",
            "grad = tensor([-0.3913])\n",
            "w = tensor([1.9899], grad_fn=<SubBackward0>)\n",
            "i = 14\n",
            "J= tensor(0.0014, grad_fn=<SumBackward0>)\n",
            "grad = tensor([-0.2817])\n",
            "w = tensor([1.9928], grad_fn=<SubBackward0>)\n",
            "i = 15\n",
            "J= tensor(0.0007, grad_fn=<SumBackward0>)\n",
            "grad = tensor([-0.2028])\n",
            "w = tensor([1.9948], grad_fn=<SubBackward0>)\n",
            "i = 16\n",
            "J= tensor(0.0004, grad_fn=<SumBackward0>)\n",
            "grad = tensor([-0.1460])\n",
            "w = tensor([1.9962], grad_fn=<SubBackward0>)\n",
            "i = 17\n",
            "J= tensor(0.0002, grad_fn=<SumBackward0>)\n",
            "grad = tensor([-0.1052])\n",
            "w = tensor([1.9973], grad_fn=<SubBackward0>)\n",
            "i = 18\n",
            "J= tensor(0.0001, grad_fn=<SumBackward0>)\n",
            "grad = tensor([-0.0757])\n",
            "w = tensor([1.9981], grad_fn=<SubBackward0>)\n",
            "i = 19\n",
            "J= tensor(5.3059e-05, grad_fn=<SumBackward0>)\n",
            "grad = tensor([-0.0545])\n",
            "w = tensor([1.9986], grad_fn=<SubBackward0>)\n"
          ]
        },
        {
          "output_type": "display_data",
          "data": {
            "text/plain": [
              "<Figure size 432x288 with 1 Axes>"
            ],
            "image/png": "[encoded data removed]"
          },
          "metadata": {
            "needs_background": "light"
          }
        }
      ]
    },
    {
      "cell_type": "markdown",
      "metadata": {
        "id": "GulfYtzBMx2e"
      },
      "source": [
        "##Exercício 3.4\n",
        "\n",
        "Quais são as restrições na escolha dos valores de $\\Delta w$ no cálculo do gradiente por diferenças finitas?"
      ]
    },
    {
      "cell_type": "markdown",
      "metadata": {
        "id": "TXQGEyvtiTAR"
      },
      "source": [
        "Resposta: O valor de $\\Delta w$, deve ser um valor pequeno mais diferente de 0, a fim de melhorar a acurácia do método, entretanto à medida que se diminui o valor de $\\Delta w$ o custo computacional aumenta, devido ao aumento da complexidade dos cálculos dos valores. E embora o tamanho de $\\Delta w$ possa ser extremamente pequeno, há um limite inferior ao usar aritmética de precisão finita. A faixa de números reais que podem ser manipulados em cálculos numéricos depende do compilador específico que é usado. Visto que caso o valor de $\\Delta w$ esteja abaixo desse valor, ocorre estouro negativo e a representação desse número normalmente resulta em um valor zero.\n",
        "\n",
        "Segundo a literatura quando o valor de $\\Delta w$ é reduzido para um valor abaixo de $10^{−5}$ para a diferença central, como o caso utilizado acima, os erros de cancelamento subtrativos tornam-se significativos e as estimativas resultantes não são confiáveis. E quando o intervalo $\\Delta w$ é tão pequeno que não existe diferença na saída (para etapas menores que $10^{−16}$), as estimativas de diferença finita eventualmente resultam em zero, como pode-se ver na figura abaixo. Por isso faz-se necessário a determinação de um valor de $\\Delta w$ ótimo para que o método forneça resultados confiáveis.\n",
        "\n",
        "\n",
        "\n",
        "\n",
        "![image.png](data:image/png;base64,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)\n",
        "\n",
        "\n"
      ]
    },
    {
      "cell_type": "markdown",
      "metadata": {
        "id": "WsrSF8GEiXk4"
      },
      "source": [
        "##Exercício 3.5\n",
        "\n",
        "Até agora trabalhamos com $w$ contendo apenas um parâmetro. Suponha agora que $w$ seja uma matriz com $N$ parâmetros e que o custo para executar $(x_i w - y_i)^2$ seja $O(N)$.\n",
        "> a) Qual é o custo computacional para fazer uma única atualização (um passo de gradiente) dos parâmetros de $w$ usando o método das diferencas finitas?\n",
        ">\n",
        "> b) Qual é o custo computacional para fazer uma única atualização (um passo de gradiente) dos parâmetros de $w$ usando o método do backpropagation?\n",
        "\n"
      ]
    },
    {
      "cell_type": "markdown",
      "metadata": {
        "id": "_4Pna3bcicHj"
      },
      "source": [
        "**a)** No método das diferenças finitas, faz-se necessário calcular duas vez a derivada parcial de $J$, em função da variável $w$. Com isso, o custo computacional para uma única atualização é $2*O(N)$\n",
        "\n",
        "**b)** Ao contrário do método das diferenças finitas, o método do backpropagation só precisa calcular $\\frac{\\partial J}{\\partial w} $ uma única vez, com isso, o custo computacional para uma única atualização é $O(N)$"
      ]
    },
    {
      "cell_type": "markdown",
      "metadata": {
        "id": "35I5w8EZdjIo"
      },
      "source": [
        "##Exercício 3.6\n",
        "\n",
        "Qual o custo (entropia cruzada) esperado para um exemplo (uma amostra) no começo do treinamento de um classificador inicializado aleatoriamente?\n",
        "\n",
        "A equação da entropia cruzada é:\n",
        "$$L = - \\sum_{j=0}^{K-1} y_j \\log p_j, $$\n",
        "Onde:\n",
        "\n",
        "- K é o número de classes;\n",
        "\n",
        "- $y_j=1$ se $j$ é a classe do exemplo (ground-truth), 0 caso contrário. Ou seja, $y$ é um vetor one-hot;\n",
        "\n",
        "- $p_j$ é a probabilidade predita pelo modelo para a classe $j$.\n",
        "\n",
        "A resposta tem que ser em função de uma ou mais das seguintes variáveis:\n",
        "\n",
        "- K = número de classes\n",
        "\n",
        "- B = batch size\n",
        "\n",
        "- D = dimensão de qualquer vetor do modelo\n",
        "\n",
        "- LR = learning rate"
      ]
    },
    {
      "cell_type": "markdown",
      "metadata": {
        "id": "swTOphiVs6eN"
      },
      "source": [
        "Resposta: O valor inicial da função custo, esta relacionada ao tamanho do batch size **B** utilizado no aprendizado, uma vez que a função custo (entropia cruzada) é calculada segundo a equação 1, onde a função é calculada a cada **B** amostras para que então os pesos sejam atualizados, pela média dos custos individuais das amostras.\n",
        "\n",
        "$$L(y,p) = - \\frac{1}{B}* \\sum_{i=1}^{B} \\sum_{j=0}^{K-1} y_j \\log p_j \\space\\space\\space (1)$$  \n",
        "\n",
        "Dessa forma, verifica-se que o custo esperado no começo do treinamento de um classificador é dado pelo valor médio das entropias cruzadas de cada uma das amostras pertencentes do batch size."
      ]
    },
    {
      "cell_type": "markdown",
      "metadata": {
        "id": "3UNdHqgSB6S9"
      },
      "source": [
        "Fim do notebook."
      ]
    }
  ]
}